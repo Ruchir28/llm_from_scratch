{
 "cells": [
  {
   "cell_type": "code",
   "execution_count": 6,
   "metadata": {},
   "outputs": [],
   "source": [
    "import torch\n",
    "import torch.nn as nn"
   ]
  },
  {
   "cell_type": "code",
   "execution_count": 7,
   "metadata": {},
   "outputs": [],
   "source": [
    "class DNN(nn.Module):\n",
    "    def __init__(self,layer_sizes,use_shortcut):\n",
    "        super().__init__()\n",
    "        self.use_shortcut = use_shortcut\n",
    "        self.layers = nn.ModuleList([\n",
    "            nn.Sequential(nn.Linear(layer_sizes[i],layer_sizes[i+1]),nn.GELU())\n",
    "            for i in range(len(layer_sizes)-1)\n",
    "        ])\n",
    "        \n",
    "    def forward(self,x):\n",
    "        for layer in self.layers:\n",
    "            layer_output = layer(x)\n",
    "            if self.use_shortcut and layer_output.shape == x.shape:\n",
    "                x = x + layer_output\n",
    "            else:\n",
    "                x = layer_output\n",
    "        return x\n",
    "\n",
    "            "
   ]
  },
  {
   "cell_type": "code",
   "execution_count": 12,
   "metadata": {},
   "outputs": [],
   "source": [
    "layer_sizes = [3,3,3,3,3,1]\n",
    "\n",
    "dnn = DNN(layer_sizes,use_shortcut=False)\n",
    "\n",
    "torch.manual_seed(123)\n",
    "\n",
    "x = torch.tensor([[1.,0.,1.]])"
   ]
  },
  {
   "cell_type": "code",
   "execution_count": 13,
   "metadata": {},
   "outputs": [],
   "source": [
    "def print_gradients(model,x):\n",
    "\n",
    "    output = model(x)\n",
    "    target = torch.tensor([[0.]])\n",
    "\n",
    "    loss = nn.MSELoss()(output,target)\n",
    "\n",
    "    loss.backward()\n",
    "\n",
    "    for name,param in model.named_parameters():\n",
    "        if 'weight' in name:\n",
    "            print(f'{name} has gradient mean {param.grad.abs().mean().item()}')"
   ]
  },
  {
   "cell_type": "code",
   "execution_count": 14,
   "metadata": {},
   "outputs": [
    {
     "name": "stdout",
     "output_type": "stream",
     "text": [
      "layers.0.0.weight has gradient mean 3.8826343370601535e-05\n",
      "layers.1.0.weight has gradient mean 6.894793477840722e-05\n",
      "layers.2.0.weight has gradient mean 8.831745071802288e-05\n",
      "layers.3.0.weight has gradient mean 0.0011646426282823086\n",
      "layers.4.0.weight has gradient mean 0.006721900776028633\n"
     ]
    }
   ],
   "source": [
    "print_gradients(dnn,x)"
   ]
  },
  {
   "cell_type": "code",
   "execution_count": 15,
   "metadata": {},
   "outputs": [
    {
     "name": "stdout",
     "output_type": "stream",
     "text": [
      "layers.0.0.weight has gradient mean 0.23126482963562012\n",
      "layers.1.0.weight has gradient mean 0.2373097687959671\n",
      "layers.2.0.weight has gradient mean 0.3484981656074524\n",
      "layers.3.0.weight has gradient mean 0.1335914433002472\n",
      "layers.4.0.weight has gradient mean 1.823801040649414\n"
     ]
    }
   ],
   "source": [
    "## now add skip connection\n",
    "\n",
    "dnn = DNN(layer_sizes,use_shortcut=True)\n",
    "\n",
    "print_gradients(dnn,x)\n"
   ]
  },
  {
   "cell_type": "code",
   "execution_count": null,
   "metadata": {},
   "outputs": [],
   "source": [
    "## So we see that the gradient is not vanishing for the skip connection model."
   ]
  }
 ],
 "metadata": {
  "kernelspec": {
   "display_name": "venv",
   "language": "python",
   "name": "python3"
  },
  "language_info": {
   "codemirror_mode": {
    "name": "ipython",
    "version": 3
   },
   "file_extension": ".py",
   "mimetype": "text/x-python",
   "name": "python",
   "nbconvert_exporter": "python",
   "pygments_lexer": "ipython3",
   "version": "3.9.10"
  }
 },
 "nbformat": 4,
 "nbformat_minor": 2
}
