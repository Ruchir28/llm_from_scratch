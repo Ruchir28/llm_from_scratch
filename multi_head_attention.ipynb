{
 "cells": [
  {
   "cell_type": "code",
   "execution_count": 21,
   "metadata": {},
   "outputs": [
    {
     "name": "stdout",
     "output_type": "stream",
     "text": [
      "torch.Size([2, 6, 3])\n"
     ]
    }
   ],
   "source": [
    "import torch\n",
    "\n",
    "inputs = torch.tensor(\n",
    "  [[0.43, 0.15, 0.89], # Your     (x^1)\n",
    "   [0.55, 0.87, 0.66], # journey  (x^2)\n",
    "   [0.57, 0.85, 0.64], # starts   (x^3)\n",
    "   [0.22, 0.58, 0.33], # with     (x^4)\n",
    "   [0.77, 0.25, 0.10], # one      (x^5)\n",
    "   [0.05, 0.80, 0.55]] # step     (x^6)\n",
    ")\n",
    "\n",
    "batch = torch.stack((inputs,inputs),dim=0)\n",
    "print(batch.shape)"
   ]
  },
  {
   "cell_type": "code",
   "execution_count": 28,
   "metadata": {},
   "outputs": [],
   "source": [
    "class CausalAttention(torch.nn.Module):\n",
    "    def __init__(self,d_in,d_out,context_length,dropout,qkv_bias=False):\n",
    "        super().__init__()\n",
    "        self.d_out = d_out\n",
    "        self.W_query = torch.nn.Linear(d_in,d_out,bias=qkv_bias)\n",
    "        self.W_key = torch.nn.Linear(d_in,d_out,bias=qkv_bias)\n",
    "        self.W_value = torch.nn.Linear(d_in,d_out,bias=qkv_bias)\n",
    "        self.dropout = torch.nn.Dropout(dropout)\n",
    "        self.register_buffer('mask',torch.triu(torch.ones(context_length,context_length),diagonal=1))\n",
    "\n",
    "    def forward(self,x):\n",
    "        b, num_tokens, d_in = x.shape\n",
    "        keys = self.W_key(x)\n",
    "        queries = self.W_query(x)\n",
    "        values = self.W_value(x)\n",
    "\n",
    "        attention_scores = queries @ keys.transpose(1,2)\n",
    "        attention_scores.masked_fill_(\n",
    "            self.mask.bool()[:num_tokens,:num_tokens],-torch.inf)\n",
    "        attention_weights = torch.softmax(\n",
    "            attention_scores / keys.shape[-1] ** 0.5,dim=-1\n",
    "        )\n",
    "        attention_weights = self.dropout(attention_weights)\n",
    "\n",
    "        context_vector = attention_weights @ values\n",
    "        return context_vector"
   ]
  },
  {
   "cell_type": "code",
   "execution_count": 29,
   "metadata": {},
   "outputs": [],
   "source": [
    "class MultiHeadAttention(torch.nn.Module):\n",
    "    def __init__(self,d_in,d_out,context_length,dropout,num_heads,qkv_bias=False):\n",
    "        super().__init__()\n",
    "        self.heads = torch.nn.ModuleList(\n",
    "            [CausalAttention(d_in,d_out,context_length,dropout,qkv_bias) \n",
    "             for _ in range(num_heads)]\n",
    "        )\n",
    "    \n",
    "    def forward(self,x):\n",
    "        return torch.cat([head(x) for head in self.heads],dim=-1) ## each head's\n",
    "        ## output is concatenated along the last dimension\n",
    "    \n"
   ]
  },
  {
   "cell_type": "code",
   "execution_count": 30,
   "metadata": {},
   "outputs": [
    {
     "name": "stdout",
     "output_type": "stream",
     "text": [
      "tensor([[[-0.4519,  0.2216,  0.4772,  0.1063],\n",
      "         [-0.5874,  0.0058,  0.5891,  0.3257],\n",
      "         [-0.6300, -0.0632,  0.6202,  0.3860],\n",
      "         [-0.5675, -0.0843,  0.5478,  0.3589],\n",
      "         [-0.5526, -0.0981,  0.5321,  0.3428],\n",
      "         [-0.5299, -0.1081,  0.5077,  0.3493]],\n",
      "\n",
      "        [[-0.4519,  0.2216,  0.4772,  0.1063],\n",
      "         [-0.5874,  0.0058,  0.5891,  0.3257],\n",
      "         [-0.6300, -0.0632,  0.6202,  0.3860],\n",
      "         [-0.5675, -0.0843,  0.5478,  0.3589],\n",
      "         [-0.5526, -0.0981,  0.5321,  0.3428],\n",
      "         [-0.5299, -0.1081,  0.5077,  0.3493]]], grad_fn=<CatBackward0>)\n",
      "context vector shape: torch.Size([2, 6, 4])\n"
     ]
    }
   ],
   "source": [
    "torch.manual_seed(123)\n",
    "context_length = batch.shape[1]\n",
    "\n",
    "d_in,d_out = 3,2\n",
    "\n",
    "mha = MultiHeadAttention(d_in,d_out,context_length,0.0,2)\n",
    "\n",
    "context_vector = mha(batch)\n",
    "\n",
    "print(context_vector)\n",
    "print(f\"context vector shape: {context_vector.shape}\")\n",
    "\n"
   ]
  },
  {
   "cell_type": "markdown",
   "metadata": {},
   "source": [
    "So now we will write a efficient implementation of the multi-head attention mechanism.\n",
    "i.e. instead of multiply different causal attention heads, we will multiply all the heads at once.\n",
    "\n",
    "for ex: \n",
    "![](efficient_mha.png)"
   ]
  },
  {
   "cell_type": "code",
   "execution_count": 32,
   "metadata": {},
   "outputs": [],
   "source": [
    "class MultiHeadAttention(torch.nn.Module):\n",
    "    def __init__(self,d_in,d_out,context_length,dropout,num_heads,qkv_bias=False):\n",
    "        super().__init__()\n",
    "        assert (d_out % num_heads == 0), \\\n",
    "            \"d_out must be divisible by num_heads\"\n",
    "        self.d_out = d_out\n",
    "        self.num_heads = num_heads\n",
    "        self.head_dim = d_out // num_heads\n",
    "\n",
    "        self.W_query = torch.nn.Linear(d_in,d_out,bias=qkv_bias)\n",
    "        self.W_key = torch.nn.Linear(d_in,d_out,bias=qkv_bias)\n",
    "        self.W_value = torch.nn.Linear(d_in,d_out,bias=qkv_bias)\n",
    "        self.output_proj = torch.nn.Linear(d_out,d_out)\n",
    "        self.dropout = torch.nn.Dropout(dropout)\n",
    "        self.register_buffer('mask',torch.triu(torch.ones(context_length,context_length),diagonal=1))\n",
    "        \n",
    "    def forward(self,x):\n",
    "       b, num_tokens, d_in = x.shape\n",
    "\n",
    "       keys = self.W_key(x)\n",
    "       queries = self.W_query(x)\n",
    "       values = self.W_value(x)\n",
    "\n",
    "       # We are splitting the d_out dimension into num_heads and head_dim\n",
    "       # because we want to apply causal attention to each head separately\n",
    "       # so it's going from (b,num_tokens,d_out) to (b,num_tokens,num_heads,head_dim)\n",
    "       keys = keys.view(b,num_tokens,self.num_heads,self.head_dim)\n",
    "       queries = queries.view(b,num_tokens,self.num_heads,self.head_dim)\n",
    "       values = values.view(b,num_tokens,self.num_heads,self.head_dim)\n",
    "\n",
    "       # now let's group them by heads and apply causal attention to each head separately\n",
    "       # i.e. we are going from (b,num_tokens,num_heads,head_dim) to (b,num_heads,num_tokens,head_dim)\n",
    "       keys = keys.transpose(1,2)\n",
    "       queries = queries.transpose(1,2)\n",
    "       values = values.transpose(1,2)\n",
    "\n",
    "       attention_scores = queries @ keys.transpose(2,3) # dot product of queries and keys\n",
    "\n",
    "       mask_bool = self.mask.bool()[:num_tokens,:num_tokens] \n",
    "\n",
    "       attention_scores.masked_fill_(mask_bool,-torch.inf)\n",
    "\n",
    "       attention_weights = torch.softmax(\n",
    "           attention_scores / keys.shape[-1]**0.5,dim=-1\n",
    "       )\n",
    "\n",
    "       attention_weights = self.dropout(attention_weights)\n",
    "\n",
    "       context_vector = attention_weights @ values\n",
    "\n",
    "       ## now since in output we have to concatenate all the heads along the last dimension\n",
    "       ## so we need to go from (b,num_heads,num_tokens,head_dim) to (b,num_tokens,num_heads*head_dim)\n",
    "       context_vector = context_vector.transpose(1,2)\n",
    "       context_vector = context_vector.contiguous().view(b,num_tokens,self.d_out)\n",
    "\n",
    "       context_vector = self.output_proj(context_vector) # projecting the context vector back to d_out dimension\n",
    "       return context_vector"
   ]
  },
  {
   "cell_type": "code",
   "execution_count": 33,
   "metadata": {},
   "outputs": [
    {
     "name": "stdout",
     "output_type": "stream",
     "text": [
      "torch.Size([2, 3, 6])\n",
      "tensor([[[ 0.1569, -0.0873,  0.0210,  0.0215, -0.3243, -0.2518],\n",
      "         [ 0.1117, -0.0547,  0.0406, -0.0213, -0.3251, -0.2993],\n",
      "         [ 0.1196, -0.0491,  0.0318, -0.0635, -0.2788, -0.2578]],\n",
      "\n",
      "        [[ 0.1569, -0.0873,  0.0210,  0.0215, -0.3243, -0.2518],\n",
      "         [ 0.1117, -0.0547,  0.0406, -0.0213, -0.3251, -0.2993],\n",
      "         [ 0.1196, -0.0491,  0.0318, -0.0635, -0.2788, -0.2578]]],\n",
      "       grad_fn=<ViewBackward0>)\n",
      "context_vecs.shape: torch.Size([2, 3, 6])\n"
     ]
    }
   ],
   "source": [
    "torch.manual_seed(123)\n",
    "\n",
    "# Define the tensor with 3 rows and 6 columns\n",
    "inputs = torch.tensor(\n",
    "    [[0.43, 0.15, 0.89, 0.55, 0.87, 0.66],  # Row 1\n",
    "     [0.57, 0.85, 0.64, 0.22, 0.58, 0.33],  # Row 2\n",
    "     [0.77, 0.25, 0.10, 0.05, 0.80, 0.55]]  # Row 3\n",
    ")\n",
    "\n",
    "batch = torch.stack((inputs, inputs), dim=0)\n",
    "print(batch.shape) \n",
    "\n",
    "batch_size, context_length, d_in = batch.shape\n",
    "d_out = 6\n",
    "mha = MultiHeadAttention(d_in, d_out, context_length, 0.0, num_heads=2)\n",
    "context_vecs = mha(batch)\n",
    "print(context_vecs)\n",
    "print(\"context_vecs.shape:\", context_vecs.shape)"
   ]
  },
  {
   "cell_type": "code",
   "execution_count": null,
   "metadata": {},
   "outputs": [],
   "source": []
  }
 ],
 "metadata": {
  "kernelspec": {
   "display_name": "venv",
   "language": "python",
   "name": "python3"
  },
  "language_info": {
   "codemirror_mode": {
    "name": "ipython",
    "version": 3
   },
   "file_extension": ".py",
   "mimetype": "text/x-python",
   "name": "python",
   "nbconvert_exporter": "python",
   "pygments_lexer": "ipython3",
   "version": "3.9.10"
  }
 },
 "nbformat": 4,
 "nbformat_minor": 2
}
