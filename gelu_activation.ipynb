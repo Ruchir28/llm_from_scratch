{
 "cells": [
  {
   "cell_type": "markdown",
   "metadata": {},
   "source": [
    "### GELU Activation\n",
    "\n",
    "# ![GELU Activation Function](gelu_activation.png)\n",
    "\n",
    "#### Why GELU?\n",
    "\n",
    "GELU is a type of activation function used in neural networks. It stands for Gaussian Error Linear Unit.\n",
    "\n",
    "- GELU is a smooth function and is differentiable everywhere. [unlike ReLU which is not differentiable at 0]\n",
    "- Prevents the dead neuron problem [ReLU can cause dead neurons in case of negative values]\n",
    "- It just works better than ReLU acording to llm experiments\n",
    "\n",
    "![GELU vs ReLU](gelu_vs_relu.png)\n"
   ]
  },
  {
   "cell_type": "code",
   "execution_count": 1,
   "metadata": {},
   "outputs": [],
   "source": [
    "GPT2_CONFIG_124M = {\n",
    "    \"vocab_size\": 50257,\n",
    "    \"context_length\": 1024,\n",
    "    \"emb_dim\": 768,\n",
    "    \"n_heads\": 12, \n",
    "    \"n_layers\": 12,\n",
    "    \"drop_rate\": 0.1, \n",
    "    \"qkv_bias\": False\n",
    "}\n"
   ]
  },
  {
   "cell_type": "code",
   "execution_count": null,
   "metadata": {},
   "outputs": [],
   "source": [
    "import torch\n",
    "class FeedForward(torch.nn.Module):\n",
    "    def __init__(self, config):\n",
    "        super().__init__()\n",
    "        self.layers = torch.nn.Sequential(\n",
    "            torch.nn.Linear(config[\"emb_dim\"], 4 * config[\"emb_dim\"]), ## Expansion\n",
    "            torch.nn.GELU(), ## Activation\n",
    "            torch.nn.Linear(4 * config[\"emb_dim\"], config[\"emb_dim\"]) ## Compression\n",
    "        )\n",
    "\n",
    "    def forward(self, x):\n",
    "        return self.layers(x)\n",
    "      "
   ]
  },
  {
   "cell_type": "code",
   "execution_count": 4,
   "metadata": {},
   "outputs": [
    {
     "name": "stdout",
     "output_type": "stream",
     "text": [
      "torch.Size([2, 3, 768])\n"
     ]
    }
   ],
   "source": [
    "ffn = FeedForward(GPT2_CONFIG_124M)\n",
    "\n",
    "x = torch.randn(2, 3, GPT2_CONFIG_124M[\"emb_dim\"])\n",
    "\n",
    "out = ffn(x)\n",
    "\n",
    "print(out.shape)\n"
   ]
  },
  {
   "cell_type": "code",
   "execution_count": null,
   "metadata": {},
   "outputs": [],
   "source": []
  }
 ],
 "metadata": {
  "kernelspec": {
   "display_name": "venv",
   "language": "python",
   "name": "python3"
  },
  "language_info": {
   "codemirror_mode": {
    "name": "ipython",
    "version": 3
   },
   "file_extension": ".py",
   "mimetype": "text/x-python",
   "name": "python",
   "nbconvert_exporter": "python",
   "pygments_lexer": "ipython3",
   "version": "3.9.10"
  }
 },
 "nbformat": 4,
 "nbformat_minor": 2
}
