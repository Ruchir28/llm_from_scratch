{
 "cells": [
  {
   "cell_type": "code",
   "execution_count": 15,
   "metadata": {},
   "outputs": [],
   "source": [
    "import torch\n",
    "\n",
    "inputs = torch.tensor(\n",
    "  [[0.43, 0.15, 0.89], # Your     (x^1)\n",
    "   [0.55, 0.87, 0.66], # journey  (x^2)\n",
    "   [0.57, 0.85, 0.64], # starts   (x^3)\n",
    "   [0.22, 0.58, 0.33], # with     (x^4)\n",
    "   [0.77, 0.25, 0.10], # one      (x^5)\n",
    "   [0.05, 0.80, 0.55]] # step     (x^6)\n",
    ")"
   ]
  },
  {
   "cell_type": "markdown",
   "metadata": {},
   "source": [
    "## what is causal attention?\n",
    "\n",
    "In causal attention, When attention scores are computed, the causal attention mechaism ensures that the scores are only computed for the tokens that are before the current token.\n",
    "This is done by masking the scores of the tokens that are after the current token.\n",
    "\n",
    "for example:\n",
    "\n",
    "![](causal_attention.png)"
   ]
  },
  {
   "cell_type": "code",
   "execution_count": 16,
   "metadata": {},
   "outputs": [],
   "source": [
    "keys_w = torch.nn.Parameter(torch.randn(3,2))\n",
    "queries_w = torch.nn.Parameter(torch.randn(3,2))\n",
    "values_w = torch.nn.Parameter(torch.randn(3,2))"
   ]
  },
  {
   "cell_type": "code",
   "execution_count": 17,
   "metadata": {},
   "outputs": [],
   "source": [
    "keys = inputs @ keys_w\n",
    "queries = inputs @ queries_w\n",
    "values = inputs @ values_w\n",
    "\n",
    "attention_scores = queries @ keys.T\n",
    "\n",
    "attention_weights = torch.softmax(attention_scores / keys.shape[-1] ** 0.5, dim=-1)"
   ]
  },
  {
   "cell_type": "code",
   "execution_count": 18,
   "metadata": {},
   "outputs": [
    {
     "name": "stdout",
     "output_type": "stream",
     "text": [
      "tensor([[1., 0., 0., 0., 0., 0.],\n",
      "        [1., 1., 0., 0., 0., 0.],\n",
      "        [1., 1., 1., 0., 0., 0.],\n",
      "        [1., 1., 1., 1., 0., 0.],\n",
      "        [1., 1., 1., 1., 1., 0.],\n",
      "        [1., 1., 1., 1., 1., 1.]])\n"
     ]
    }
   ],
   "source": [
    "context_length = attention_scores.shape[0]\n",
    "mask_for_causal_attention = torch.tril(torch.ones(context_length,context_length))\n",
    "print(mask_for_causal_attention)"
   ]
  },
  {
   "cell_type": "code",
   "execution_count": 19,
   "metadata": {},
   "outputs": [
    {
     "name": "stdout",
     "output_type": "stream",
     "text": [
      "tensor([[0.2584, 0.0000, 0.0000, 0.0000, 0.0000, 0.0000],\n",
      "        [0.1425, 0.1701, 0.0000, 0.0000, 0.0000, 0.0000],\n",
      "        [0.1440, 0.1696, 0.1703, 0.0000, 0.0000, 0.0000],\n",
      "        [0.1358, 0.1749, 0.1756, 0.1688, 0.0000, 0.0000],\n",
      "        [0.1806, 0.1590, 0.1590, 0.1684, 0.1655, 0.0000],\n",
      "        [0.1225, 0.1796, 0.1805, 0.1688, 0.1877, 0.1610]],\n",
      "       grad_fn=<MulBackward0>)\n"
     ]
    }
   ],
   "source": [
    "causal_attention_weights = attention_weights * mask_for_causal_attention\n",
    "print(causal_attention_weights)"
   ]
  },
  {
   "cell_type": "code",
   "execution_count": 20,
   "metadata": {},
   "outputs": [],
   "source": [
    "## now since every row need to sum to 1 , so just normalize the weights\n",
    "\n",
    "row_sums = torch.sum(causal_attention_weights,dim=1,keepdim=True)"
   ]
  },
  {
   "cell_type": "code",
   "execution_count": 21,
   "metadata": {},
   "outputs": [],
   "source": [
    "causal_attention_weights_norm = causal_attention_weights/row_sums"
   ]
  },
  {
   "cell_type": "code",
   "execution_count": 22,
   "metadata": {},
   "outputs": [
    {
     "name": "stdout",
     "output_type": "stream",
     "text": [
      "tensor([[1.0000, 0.0000, 0.0000, 0.0000, 0.0000, 0.0000],\n",
      "        [0.4558, 0.5442, 0.0000, 0.0000, 0.0000, 0.0000],\n",
      "        [0.2976, 0.3505, 0.3519, 0.0000, 0.0000, 0.0000],\n",
      "        [0.2073, 0.2670, 0.2680, 0.2577, 0.0000, 0.0000],\n",
      "        [0.2169, 0.1910, 0.1910, 0.2023, 0.1988, 0.0000],\n",
      "        [0.1225, 0.1796, 0.1805, 0.1688, 0.1877, 0.1610]],\n",
      "       grad_fn=<DivBackward0>)\n"
     ]
    }
   ],
   "source": [
    "print(causal_attention_weights_norm)"
   ]
  },
  {
   "cell_type": "code",
   "execution_count": 23,
   "metadata": {},
   "outputs": [],
   "source": [
    "## But the above method is a not fully correct because while when doing \n",
    "## softmax on the attention scores, we are also considering the values \n",
    "## of the tokens that are not attended to.\n",
    "\n",
    "## hence a better approach is to first make those attention score to be -inf \n",
    "## and then do softmax , so that the normallized scores after softmax will be \n",
    "## are also not factoring in the values of the tokens that are not attended to."
   ]
  },
  {
   "cell_type": "code",
   "execution_count": 24,
   "metadata": {},
   "outputs": [
    {
     "name": "stdout",
     "output_type": "stream",
     "text": [
      "torch.Size([2, 6, 3])\n"
     ]
    }
   ],
   "source": [
    "batch = torch.stack((inputs,inputs),dim=0)\n",
    "print(batch.shape)"
   ]
  },
  {
   "cell_type": "code",
   "execution_count": 25,
   "metadata": {},
   "outputs": [],
   "source": [
    "class CausalAttention(torch.nn.Module):\n",
    "    def __init__(self,d_in,d_out,context_length,dropout,qkv_bias=False):\n",
    "        super().__init__()\n",
    "        self.d_out = d_out\n",
    "        self.W_query = torch.nn.Linear(d_in,d_out,bias=qkv_bias)\n",
    "        self.W_key = torch.nn.Linear(d_in,d_out,bias=qkv_bias)\n",
    "        self.W_value = torch.nn.Linear(d_in,d_out,bias=qkv_bias)\n",
    "        self.W_out = torch.nn.Linear(d_out,d_out)\n",
    "        self.dropout = torch.nn.Dropout(dropout)\n",
    "        self.register_buffer('mask',torch.triu(torch.ones(context_length,context_length),diagonal=1))\n",
    "\n",
    "    def forward(self,x):\n",
    "        b, num_tokens, d_in = x.shape\n",
    "        keys = self.W_key(x)\n",
    "        queries = self.W_query(x)\n",
    "        values = self.W_value(x)\n",
    "\n",
    "        attention_scores = queries @ keys.transpose(1,2)\n",
    "        attention_scores.masked_fill(\n",
    "            self.mask.bool()[:num_tokens,:num_tokens],-torch.inf)\n",
    "        attention_weights = torch.softmax(\n",
    "            attention_scores / keys.shape[-1] ** 0.5,dim=-1\n",
    "        )\n",
    "        attention_weights = self.dropout(attention_weights)\n",
    "\n",
    "        context_vector = attention_weights @ values\n",
    "        return context_vector"
   ]
  },
  {
   "cell_type": "code",
   "execution_count": 26,
   "metadata": {},
   "outputs": [
    {
     "name": "stdout",
     "output_type": "stream",
     "text": [
      "torch.Size([2, 6, 2])\n"
     ]
    }
   ],
   "source": [
    "torch.manual_seed(123)\n",
    "\n",
    "context_length = batch.shape[1]\n",
    "ca = CausalAttention(3,2,context_length,0.0)\n",
    "\n",
    "context_vector = ca(batch)\n",
    "print(context_vector.shape)"
   ]
  },
  {
   "cell_type": "code",
   "execution_count": 27,
   "metadata": {},
   "outputs": [
    {
     "name": "stdout",
     "output_type": "stream",
     "text": [
      "tensor([[[-0.5337, -0.1051],\n",
      "         [-0.5323, -0.1080],\n",
      "         [-0.5323, -0.1079],\n",
      "         [-0.5297, -0.1076],\n",
      "         [-0.5311, -0.1066],\n",
      "         [-0.5299, -0.1081]],\n",
      "\n",
      "        [[-0.5337, -0.1051],\n",
      "         [-0.5323, -0.1080],\n",
      "         [-0.5323, -0.1079],\n",
      "         [-0.5297, -0.1076],\n",
      "         [-0.5311, -0.1066],\n",
      "         [-0.5299, -0.1081]]], grad_fn=<UnsafeViewBackward0>)\n"
     ]
    }
   ],
   "source": [
    "print(context_vector)"
   ]
  },
  {
   "cell_type": "code",
   "execution_count": null,
   "metadata": {},
   "outputs": [],
   "source": []
  }
 ],
 "metadata": {
  "kernelspec": {
   "display_name": "venv",
   "language": "python",
   "name": "python3"
  },
  "language_info": {
   "codemirror_mode": {
    "name": "ipython",
    "version": 3
   },
   "file_extension": ".py",
   "mimetype": "text/x-python",
   "name": "python",
   "nbconvert_exporter": "python",
   "pygments_lexer": "ipython3",
   "version": "3.9.10"
  }
 },
 "nbformat": 4,
 "nbformat_minor": 2
}
